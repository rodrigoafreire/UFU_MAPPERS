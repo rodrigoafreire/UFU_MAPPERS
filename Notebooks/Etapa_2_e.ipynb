{
 "cells": [
  {
   "cell_type": "code",
   "execution_count": 1,
   "id": "1a9fcae7-3127-45a5-8097-917cf07c7da3",
   "metadata": {},
   "outputs": [],
   "source": [
    "import pandas as pd\n",
    "df_mun = pd.read_csv(\"E:/GitHub/UFU_MAPPERS/microdados/dados/microdados_uberlandia.csv\", delimiter = ';', encoding = 'iso-8859-1', low_memory=False)"
   ]
  },
  {
   "cell_type": "code",
   "execution_count": 2,
   "id": "36e9af21-830e-41c6-908f-8575c787494e",
   "metadata": {},
   "outputs": [
    {
     "data": {
      "text/plain": [
       "447"
      ]
     },
     "execution_count": 2,
     "metadata": {},
     "output_type": "execute_result"
    }
   ],
   "source": [
    "df_mun['CO_ENTIDADE'].count()"
   ]
  },
  {
   "cell_type": "code",
   "execution_count": 3,
   "id": "da26c21f-58c4-460f-8efc-cb1823eb3323",
   "metadata": {},
   "outputs": [
    {
     "data": {
      "text/plain": [
       "4    229\n",
       "3    142\n",
       "2     72\n",
       "1      4\n",
       "Name: TP_DEPENDENCIA, dtype: int64"
      ]
     },
     "execution_count": 3,
     "metadata": {},
     "output_type": "execute_result"
    }
   ],
   "source": [
    "df_mun['TP_DEPENDENCIA'].value_counts()"
   ]
  },
  {
   "cell_type": "code",
   "execution_count": 4,
   "id": "882752f2-c0f5-4f63-8e73-f17894f8619d",
   "metadata": {},
   "outputs": [
    {
     "data": {
      "text/plain": [
       "1    347\n",
       "2     91\n",
       "3      9\n",
       "Name: TP_SITUACAO_FUNCIONAMENTO, dtype: int64"
      ]
     },
     "execution_count": 4,
     "metadata": {},
     "output_type": "execute_result"
    }
   ],
   "source": [
    "df_mun['TP_SITUACAO_FUNCIONAMENTO'].value_counts()"
   ]
  },
  {
   "cell_type": "code",
   "execution_count": 5,
   "id": "3f089f9b-6c07-4e35-96f1-2d58b8295c9c",
   "metadata": {},
   "outputs": [
    {
     "data": {
      "text/plain": [
       "1.0    339\n",
       "Name: IN_BAS, dtype: int64"
      ]
     },
     "execution_count": 5,
     "metadata": {},
     "output_type": "execute_result"
    }
   ],
   "source": [
    "df_mun['IN_BAS'].value_counts()"
   ]
  },
  {
   "cell_type": "code",
   "execution_count": 8,
   "id": "442857ea-bf63-40cc-b5b0-ff7f68990414",
   "metadata": {},
   "outputs": [],
   "source": [
    "colunas = ['QT_MAT_BAS', 'QT_MAT_PROF', 'QT_MAT_PROF_TEC', 'QT_MAT_EJA']"
   ]
  },
  {
   "cell_type": "code",
   "execution_count": 9,
   "id": "ed3d5cee-593a-4eaa-8736-aa8881f452a5",
   "metadata": {},
   "outputs": [],
   "source": [
    "df_mun[colunas] = df_mun[colunas].fillna(0) "
   ]
  },
  {
   "cell_type": "code",
   "execution_count": 10,
   "id": "3c851cfb-a782-4f6b-b170-dc27f5d7b4c6",
   "metadata": {},
   "outputs": [
    {
     "name": "stdout",
     "output_type": "stream",
     "text": [
      "0      362.0\n",
      "1      723.0\n",
      "2      650.0\n",
      "3      427.0\n",
      "4      340.0\n",
      "       ...  \n",
      "442    151.0\n",
      "443    421.0\n",
      "444      0.0\n",
      "445      0.0\n",
      "446      0.0\n",
      "Name: QT_MAT_BAS, Length: 447, dtype: float64\n"
     ]
    }
   ],
   "source": [
    "print(df_mun['QT_MAT_BAS'])"
   ]
  },
  {
   "cell_type": "code",
   "execution_count": 11,
   "id": "8325e173-250e-40d9-8dd7-4f2d8d79fd35",
   "metadata": {},
   "outputs": [
    {
     "data": {
      "text/html": [
       "<div>\n",
       "<style scoped>\n",
       "    .dataframe tbody tr th:only-of-type {\n",
       "        vertical-align: middle;\n",
       "    }\n",
       "\n",
       "    .dataframe tbody tr th {\n",
       "        vertical-align: top;\n",
       "    }\n",
       "\n",
       "    .dataframe thead th {\n",
       "        text-align: right;\n",
       "    }\n",
       "</style>\n",
       "<table border=\"1\" class=\"dataframe\">\n",
       "  <thead>\n",
       "    <tr style=\"text-align: right;\">\n",
       "      <th></th>\n",
       "      <th>QT_MAT_BAS</th>\n",
       "      <th>QT_MAT_PROF</th>\n",
       "      <th>QT_MAT_PROF_TEC</th>\n",
       "      <th>QT_MAT_EJA</th>\n",
       "    </tr>\n",
       "    <tr>\n",
       "      <th>CO_ENTIDADE</th>\n",
       "      <th></th>\n",
       "      <th></th>\n",
       "      <th></th>\n",
       "      <th></th>\n",
       "    </tr>\n",
       "  </thead>\n",
       "  <tbody>\n",
       "    <tr>\n",
       "      <th>31009107</th>\n",
       "      <td>362.0</td>\n",
       "      <td>362.0</td>\n",
       "      <td>362.0</td>\n",
       "      <td>0.0</td>\n",
       "    </tr>\n",
       "    <tr>\n",
       "      <th>31166545</th>\n",
       "      <td>723.0</td>\n",
       "      <td>15.0</td>\n",
       "      <td>0.0</td>\n",
       "      <td>22.0</td>\n",
       "    </tr>\n",
       "    <tr>\n",
       "      <th>31166553</th>\n",
       "      <td>650.0</td>\n",
       "      <td>650.0</td>\n",
       "      <td>650.0</td>\n",
       "      <td>0.0</td>\n",
       "    </tr>\n",
       "    <tr>\n",
       "      <th>31166561</th>\n",
       "      <td>427.0</td>\n",
       "      <td>427.0</td>\n",
       "      <td>427.0</td>\n",
       "      <td>0.0</td>\n",
       "    </tr>\n",
       "    <tr>\n",
       "      <th>31167215</th>\n",
       "      <td>340.0</td>\n",
       "      <td>0.0</td>\n",
       "      <td>0.0</td>\n",
       "      <td>0.0</td>\n",
       "    </tr>\n",
       "    <tr>\n",
       "      <th>...</th>\n",
       "      <td>...</td>\n",
       "      <td>...</td>\n",
       "      <td>...</td>\n",
       "      <td>...</td>\n",
       "    </tr>\n",
       "    <tr>\n",
       "      <th>31380180</th>\n",
       "      <td>151.0</td>\n",
       "      <td>0.0</td>\n",
       "      <td>0.0</td>\n",
       "      <td>0.0</td>\n",
       "    </tr>\n",
       "    <tr>\n",
       "      <th>31380210</th>\n",
       "      <td>421.0</td>\n",
       "      <td>0.0</td>\n",
       "      <td>0.0</td>\n",
       "      <td>0.0</td>\n",
       "    </tr>\n",
       "    <tr>\n",
       "      <th>31380415</th>\n",
       "      <td>0.0</td>\n",
       "      <td>0.0</td>\n",
       "      <td>0.0</td>\n",
       "      <td>0.0</td>\n",
       "    </tr>\n",
       "    <tr>\n",
       "      <th>31381004</th>\n",
       "      <td>0.0</td>\n",
       "      <td>0.0</td>\n",
       "      <td>0.0</td>\n",
       "      <td>0.0</td>\n",
       "    </tr>\n",
       "    <tr>\n",
       "      <th>31381128</th>\n",
       "      <td>0.0</td>\n",
       "      <td>0.0</td>\n",
       "      <td>0.0</td>\n",
       "      <td>0.0</td>\n",
       "    </tr>\n",
       "  </tbody>\n",
       "</table>\n",
       "<p>447 rows × 4 columns</p>\n",
       "</div>"
      ],
      "text/plain": [
       "             QT_MAT_BAS  QT_MAT_PROF  QT_MAT_PROF_TEC  QT_MAT_EJA\n",
       "CO_ENTIDADE                                                      \n",
       "31009107          362.0        362.0            362.0         0.0\n",
       "31166545          723.0         15.0              0.0        22.0\n",
       "31166553          650.0        650.0            650.0         0.0\n",
       "31166561          427.0        427.0            427.0         0.0\n",
       "31167215          340.0          0.0              0.0         0.0\n",
       "...                 ...          ...              ...         ...\n",
       "31380180          151.0          0.0              0.0         0.0\n",
       "31380210          421.0          0.0              0.0         0.0\n",
       "31380415            0.0          0.0              0.0         0.0\n",
       "31381004            0.0          0.0              0.0         0.0\n",
       "31381128            0.0          0.0              0.0         0.0\n",
       "\n",
       "[447 rows x 4 columns]"
      ]
     },
     "execution_count": 11,
     "metadata": {},
     "output_type": "execute_result"
    }
   ],
   "source": [
    "df_mun.groupby('CO_ENTIDADE')[colunas].sum()"
   ]
  },
  {
   "cell_type": "code",
   "execution_count": 12,
   "id": "8321884e-cedb-48c5-8c43-3ced7305fa0a",
   "metadata": {},
   "outputs": [
    {
     "name": "stdout",
     "output_type": "stream",
     "text": [
      "0      362.0\n",
      "1      723.0\n",
      "2      650.0\n",
      "3      427.0\n",
      "4      340.0\n",
      "       ...  \n",
      "442    151.0\n",
      "443    421.0\n",
      "444      0.0\n",
      "445      0.0\n",
      "446      0.0\n",
      "Name: QT_MAT_BAS, Length: 447, dtype: float64\n"
     ]
    }
   ],
   "source": [
    "print(df_mun['QT_MAT_BAS'])"
   ]
  },
  {
   "cell_type": "code",
   "execution_count": 19,
   "id": "ff8392d3-4846-42cc-a1c2-cd086a252f02",
   "metadata": {},
   "outputs": [],
   "source": [
    "df_mun['QT_ALUNOS_TOTAL'] = df_mun[colunas].sum(axis=1)"
   ]
  },
  {
   "cell_type": "code",
   "execution_count": 20,
   "id": "dfe2a8a6-a396-4f67-adb1-ec7086500847",
   "metadata": {},
   "outputs": [
    {
     "name": "stdout",
     "output_type": "stream",
     "text": [
      "0      1086.0\n",
      "1       760.0\n",
      "2      1950.0\n",
      "3      1281.0\n",
      "4       340.0\n",
      "        ...  \n",
      "442     151.0\n",
      "443     421.0\n",
      "444       0.0\n",
      "445       0.0\n",
      "446       0.0\n",
      "Name: QT_ALUNOS_TOTAL, Length: 447, dtype: float64\n"
     ]
    }
   ],
   "source": [
    "print(df_mun['QT_ALUNOS_TOTAL'])"
   ]
  },
  {
   "cell_type": "code",
   "execution_count": 23,
   "id": "b96e2c8a-d58f-4d97-8dd7-42ac5bc26908",
   "metadata": {},
   "outputs": [
    {
     "data": {
      "text/plain": [
       "1    760.0\n",
       "Name: QT_ALUNOS_TOTAL, dtype: float64"
      ]
     },
     "execution_count": 23,
     "metadata": {},
     "output_type": "execute_result"
    }
   ],
   "source": [
    "df_mun.loc[df_mun['CO_ENTIDADE'] == 31166545]['QT_ALUNOS_TOTAL']"
   ]
  },
  {
   "cell_type": "code",
   "execution_count": 24,
   "id": "5509e32e-1ed4-4b9b-bb02-9679f3706018",
   "metadata": {},
   "outputs": [],
   "source": [
    " df_mun.to_csv(\"E:/GitHub/UFU_MAPPERS/microdados/dados/microdados_uberlandia_parte_2.csv\", sep=';', encoding='iso-8859-1', index=False)"
   ]
  }
 ],
 "metadata": {
  "kernelspec": {
   "display_name": "Python 3 (ipykernel)",
   "language": "python",
   "name": "python3"
  },
  "language_info": {
   "codemirror_mode": {
    "name": "ipython",
    "version": 3
   },
   "file_extension": ".py",
   "mimetype": "text/x-python",
   "name": "python",
   "nbconvert_exporter": "python",
   "pygments_lexer": "ipython3",
   "version": "3.10.11"
  }
 },
 "nbformat": 4,
 "nbformat_minor": 5
}
