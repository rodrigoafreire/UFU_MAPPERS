{
 "cells": [
  {
   "cell_type": "code",
   "execution_count": 1,
   "id": "1a9fcae7-3127-45a5-8097-917cf07c7da3",
   "metadata": {},
   "outputs": [],
   "source": [
    "import pandas as pd\n",
    "df_mun = pd.read_csv(\"E:/GitHub/UFU_MAPPERS/microdados/dados/microdados_uberlandia.csv\", delimiter = ';', encoding = 'iso-8859-1', low_memory=False)"
   ]
  },
  {
   "cell_type": "code",
   "execution_count": 2,
   "id": "36e9af21-830e-41c6-908f-8575c787494e",
   "metadata": {},
   "outputs": [
    {
     "data": {
      "text/plain": [
       "447"
      ]
     },
     "execution_count": 2,
     "metadata": {},
     "output_type": "execute_result"
    }
   ],
   "source": [
    "df_mun['CO_ENTIDADE'].count()"
   ]
  },
  {
   "cell_type": "code",
   "execution_count": 3,
   "id": "882752f2-c0f5-4f63-8e73-f17894f8619d",
   "metadata": {},
   "outputs": [
    {
     "data": {
      "text/plain": [
       "1    347\n",
       "2     91\n",
       "3      9\n",
       "Name: TP_SITUACAO_FUNCIONAMENTO, dtype: int64"
      ]
     },
     "execution_count": 3,
     "metadata": {},
     "output_type": "execute_result"
    }
   ],
   "source": [
    "df_mun['TP_SITUACAO_FUNCIONAMENTO'].value_counts()"
   ]
  },
  {
   "cell_type": "code",
   "execution_count": 4,
   "id": "3f089f9b-6c07-4e35-96f1-2d58b8295c9c",
   "metadata": {},
   "outputs": [],
   "source": [
    "df_mun_func = df_mun.loc[df_mun['TP_SITUACAO_FUNCIONAMENTO'] == 1]"
   ]
  },
  {
   "cell_type": "code",
   "execution_count": 5,
   "id": "442857ea-bf63-40cc-b5b0-ff7f68990414",
   "metadata": {},
   "outputs": [
    {
     "data": {
      "text/plain": [
       "1    347\n",
       "Name: TP_SITUACAO_FUNCIONAMENTO, dtype: int64"
      ]
     },
     "execution_count": 5,
     "metadata": {},
     "output_type": "execute_result"
    }
   ],
   "source": [
    "df_mun_func['TP_SITUACAO_FUNCIONAMENTO'].value_counts()"
   ]
  },
  {
   "cell_type": "code",
   "execution_count": 7,
   "id": "ed3d5cee-593a-4eaa-8736-aa8881f452a5",
   "metadata": {},
   "outputs": [],
   "source": [
    " df_mun_func.to_csv(\"E:/GitHub/UFU_MAPPERS/microdados/dados/microdados_uberlandia_em_funcionamento.csv\", sep=';', encoding='iso-8859-1', index=False)"
   ]
  }
 ],
 "metadata": {
  "kernelspec": {
   "display_name": "Python 3 (ipykernel)",
   "language": "python",
   "name": "python3"
  },
  "language_info": {
   "codemirror_mode": {
    "name": "ipython",
    "version": 3
   },
   "file_extension": ".py",
   "mimetype": "text/x-python",
   "name": "python",
   "nbconvert_exporter": "python",
   "pygments_lexer": "ipython3",
   "version": "3.10.11"
  }
 },
 "nbformat": 4,
 "nbformat_minor": 5
}
