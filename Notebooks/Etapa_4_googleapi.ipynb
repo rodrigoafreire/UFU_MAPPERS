{
 "cells": [
  {
   "cell_type": "code",
   "execution_count": null,
   "id": "0052cf77-6d54-49b1-af06-6fa4b9a24a83",
   "metadata": {},
   "outputs": [],
   "source": [
    "import pandas as pd\n",
    "import geopandas as gpd\n",
    "import folium\n",
    "import googlemaps\n",
    "from shapely.geometry import Point\n",
    "\n",
    "# Substitua 'YOUR_API_KEY' pela sua chave real da API de Geocodificação do Google Maps\n",
    "api_key = 'sua_chave_aqui'\n",
    "\n",
    "# Carregue seus dados em um DataFrame\n",
    "df_mun_func = pd.read_csv('E:/GitHub/UFU_MAPPERS/microdados/dados/microdados_uberlandia_em_funcionamento.csv', delimiter=';',\n",
    "                           encoding='iso-8859-1', low_memory=False)\n",
    "\n",
    "# Inicialize o cliente de Geocodificação do Google Maps\n",
    "gmaps = googlemaps.Client(key=api_key)"
   ]
  },
  {
   "cell_type": "code",
   "execution_count": null,
   "id": "a8862a44-bf7b-4d02-add8-465df3691b5d",
   "metadata": {},
   "outputs": [],
   "source": [
    "# Defina uma função para geocodificar um endereço usando a API de Geocodificação do Google Maps\n",
    "def geocode_address(endereco):\n",
    "    try:\n",
    "        geocode_result = gmaps.geocode(endereco)\n",
    "        if geocode_result:\n",
    "            localizacao = geocode_result[0]['geometry']['location']\n",
    "            print(localizacao)\n",
    "            return Point(localizacao['lng'], localizacao['lat'])\n",
    "        else:\n",
    "            return None\n",
    "    except Exception as e:\n",
    "        print(f\"Erro na geocodificação do endereço: {endereco}\\nErro: {str(e)}\")\n",
    "        return None\n"
   ]
  },
  {
   "cell_type": "code",
   "execution_count": null,
   "id": "d7e0bdb6-9636-4d12-9b6f-a3fad8c92fd7",
   "metadata": {},
   "outputs": [],
   "source": [
    "# Etapa 4: Crie uma nova coluna 'full_address' com o endereço combinado\n",
    "df_mun_func['full_address'] = 'Brasil' + ', ' + 'MG' + ', ' + df_mun_func['NO_MUNICIPIO'] + ', ' + df_mun_func['DS_ENDERECO'] + ', ' + df_mun_func['NU_ENDERECO']\n",
    "\n",
    "# Etapa 5: Aplique a função de geocodificação para criar uma coluna 'geometry'\n",
    "df_mun_func['geometry'] = df_mun_func['full_address'].apply(geocode_address)\n",
    "\n",
    "# Etapa 6: Crie um GeoDataFrame a partir do DataFrame\n",
    "gdf = gpd.GeoDataFrame(df_mun_func, geometry='geometry')\n",
    "\n",
    "# Etapa 6.a Salve o GeoDataFrame em um Shapefile\n",
    "gdf.to_file('E:/GitHub/UFU_MAPPERS/microdados/dados/uberlandia_em_func_google.shp', driver='ESRI Shapefile')\n",
    "\n",
    "# Etapa 7: Crie um mapa usando o Folium e adicione marcadores para as localizações dos prédios\n",
    "# Substitua 'latitude' e 'longitude' pelas coordenadas do centro do mapa desejado\n",
    "# No caso de Uberlândia, as coordenadas são: -18.9186, -48.2772\n",
    "centro_mapa = (-18.9186, -48.2772)\n",
    "m = folium.Map(location=centro_mapa, zoom_start=13)\n",
    "\n",
    "print(gdf.head(40))\n",
    "\n",
    "# Percorra cada linha no GeoDataFrame e adicione um marcador para cada prédio\n",
    "for idx, row in gdf.iterrows():\n",
    "    if not pd.isnull(row['geometry']):\n",
    "        folium.Marker(location=[row.geometry.y, row.geometry.x], popup=row['NO_ENTIDADE']).add_to(m)\n",
    "\n",
    "# Etapa 8: Salve o mapa como um arquivo HTML ou exiba-o em um Jupyter Notebook\n",
    "m.save('E:/GitHub/UFU_MAPPERS/microdados/dados/building_locations_map_google_2.html')\n",
    "\n",
    "# O arquivo HTML resultante conterá um mapa com marcadores para as localizações dos prédios."
   ]
  }
 ],
 "metadata": {
  "kernelspec": {
   "display_name": "Python 3 (ipykernel)",
   "language": "python",
   "name": "python3"
  },
  "language_info": {
   "codemirror_mode": {
    "name": "ipython",
    "version": 3
   },
   "file_extension": ".py",
   "mimetype": "text/x-python",
   "name": "python",
   "nbconvert_exporter": "python",
   "pygments_lexer": "ipython3",
   "version": "3.10.11"
  }
 },
 "nbformat": 4,
 "nbformat_minor": 5
}
